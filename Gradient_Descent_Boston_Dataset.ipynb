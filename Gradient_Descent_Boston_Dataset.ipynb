{
 "cells": [
  {
   "cell_type": "code",
   "execution_count": 1,
   "metadata": {},
   "outputs": [],
   "source": [
    "import numpy as np\n",
    "\n",
    "from sklearn.preprocessing import StandardScaler\n",
    "from sklearn import ensemble\n"
   ]
  },
  {
   "cell_type": "markdown",
   "metadata": {},
   "source": [
    "Load the data from local csv file"
   ]
  },
  {
   "cell_type": "code",
   "execution_count": 2,
   "metadata": {},
   "outputs": [],
   "source": [
    "data_train = np.loadtxt('0000000000002417_training_boston_x_y_train.csv', delimiter=',')\n",
    "X_test = np.loadtxt('0000000000002417_test_boston_x_test.csv', delimiter=',')"
   ]
  },
  {
   "cell_type": "code",
   "execution_count": 3,
   "metadata": {},
   "outputs": [
    {
     "data": {
      "text/plain": [
       "((379, 14), (127, 13))"
      ]
     },
     "execution_count": 3,
     "metadata": {},
     "output_type": "execute_result"
    }
   ],
   "source": [
    "data_train.shape, X_test.shape"
   ]
  },
  {
   "cell_type": "code",
   "execution_count": 4,
   "metadata": {},
   "outputs": [],
   "source": [
    "X_train = data_train[:,0:13]\n",
    "Y_train = data_train[:,13]"
   ]
  },
  {
   "cell_type": "markdown",
   "metadata": {},
   "source": [
    "Calculate cost of each iternation with learning rate"
   ]
  },
  {
   "cell_type": "code",
   "execution_count": 1,
   "metadata": {},
   "outputs": [
    {
     "ename": "NameError",
     "evalue": "name 'ensemble' is not defined",
     "output_type": "error",
     "traceback": [
      "\u001b[1;31m---------------------------------------------------------------------------\u001b[0m",
      "\u001b[1;31mNameError\u001b[0m                                 Traceback (most recent call last)",
      "\u001b[1;32m<ipython-input-1-b7ecd72ca471>\u001b[0m in \u001b[0;36m<module>\u001b[1;34m\u001b[0m\n\u001b[1;32m----> 1\u001b[1;33m \u001b[0mgbr\u001b[0m \u001b[1;33m=\u001b[0m \u001b[0mensemble\u001b[0m\u001b[1;33m.\u001b[0m\u001b[0mGradientBoostingRegressor\u001b[0m\u001b[1;33m(\u001b[0m\u001b[0mn_estimators\u001b[0m\u001b[1;33m=\u001b[0m\u001b[1;36m1200\u001b[0m\u001b[1;33m,\u001b[0m\u001b[0mmax_depth\u001b[0m\u001b[1;33m=\u001b[0m\u001b[1;36m5\u001b[0m\u001b[1;33m,\u001b[0m\u001b[0mmin_samples_split\u001b[0m\u001b[1;33m=\u001b[0m\u001b[1;36m2\u001b[0m\u001b[1;33m,\u001b[0m\u001b[0mlearning_rate\u001b[0m\u001b[1;33m=\u001b[0m\u001b[1;36m0.2\u001b[0m\u001b[1;33m,\u001b[0m\u001b[0mloss\u001b[0m\u001b[1;33m=\u001b[0m\u001b[1;34m'ls'\u001b[0m\u001b[1;33m)\u001b[0m\u001b[1;33m\u001b[0m\u001b[1;33m\u001b[0m\u001b[0m\n\u001b[0m\u001b[0;32m      2\u001b[0m \u001b[0mscaler\u001b[0m \u001b[1;33m=\u001b[0m \u001b[0mStandardScaler\u001b[0m\u001b[1;33m(\u001b[0m\u001b[1;33m)\u001b[0m\u001b[1;33m\u001b[0m\u001b[1;33m\u001b[0m\u001b[0m\n\u001b[0;32m      3\u001b[0m \u001b[0mscaler\u001b[0m\u001b[1;33m.\u001b[0m\u001b[0mfit\u001b[0m\u001b[1;33m(\u001b[0m\u001b[0mX_train\u001b[0m\u001b[1;33m)\u001b[0m\u001b[1;33m\u001b[0m\u001b[1;33m\u001b[0m\u001b[0m\n\u001b[0;32m      4\u001b[0m \u001b[0mX_train\u001b[0m \u001b[1;33m=\u001b[0m \u001b[0mscaler\u001b[0m\u001b[1;33m.\u001b[0m\u001b[0mtransform\u001b[0m\u001b[1;33m(\u001b[0m\u001b[0mX_train\u001b[0m\u001b[1;33m)\u001b[0m\u001b[1;33m\u001b[0m\u001b[1;33m\u001b[0m\u001b[0m\n\u001b[0;32m      5\u001b[0m \u001b[0mX_test\u001b[0m \u001b[1;33m=\u001b[0m \u001b[0mscaler\u001b[0m\u001b[1;33m.\u001b[0m\u001b[0mtransform\u001b[0m\u001b[1;33m(\u001b[0m\u001b[0mX_test\u001b[0m\u001b[1;33m)\u001b[0m\u001b[1;33m\u001b[0m\u001b[1;33m\u001b[0m\u001b[0m\n",
      "\u001b[1;31mNameError\u001b[0m: name 'ensemble' is not defined"
     ]
    }
   ],
   "source": [
    "gbr = ensemble.GradientBoostingRegressor(n_estimators=1200,max_depth=5,min_samples_split=2,learning_rate=0.2,loss='ls')\n",
    "scaler = StandardScaler()\n",
    "scaler.fit(X_train)\n",
    "X_train = scaler.transform(X_train)\n",
    "X_test = scaler.transform(X_test)\n",
    "gbr.fit(X_train,Y_train)\n",
    "y_pred  = gbr.predict(X_test)\n",
    "np.savetxt('y_pred1.csv',y_pred, fmt='%1.5f')"
   ]
  },
  {
   "cell_type": "code",
   "execution_count": 8,
   "metadata": {},
   "outputs": [
    {
     "data": {
      "text/plain": [
       "array([18.53385467, 27.04849122, 14.91959985, 21.60433465, 21.53764895,\n",
       "       12.35696416, 28.18711697, 25.73998801, 18.51100209, 21.39017917,\n",
       "       23.54098411, 17.7007076 , 19.2521267 , 19.75904635, 49.6828198 ,\n",
       "       20.65686956, 24.40152141, 22.17397312, 18.1665832 , 30.99506124,\n",
       "       20.62392186, 20.79610885, 34.53405344, 30.33131593, 31.86992394,\n",
       "       16.19192925, 21.36957712, 29.55641607, 22.6831454 , 28.68424937,\n",
       "       18.14109414, 24.9284997 , 19.49682406, 23.43738776, 10.27880711,\n",
       "       23.85019223, 23.36258771, 20.5691491 , 22.33647151,  8.73067108,\n",
       "       15.50452833, 23.29729549, 24.00609312, 19.50045185, 21.88652303,\n",
       "        8.75675162, 43.24290884, 23.95100785, 35.14872018, 13.48247713,\n",
       "       10.99052521, 48.80210628, 11.69102502, 19.24768499, 15.33048484,\n",
       "       20.02958661, 18.53393286, 21.72042506, 13.75835994, 16.21058643,\n",
       "       14.35211208, 26.809988  , 22.16242492, 24.04922066, 13.72248129,\n",
       "       14.75812116, 32.29268529, 12.42330547, 21.97198246, 21.1692749 ,\n",
       "       26.2059315 , 22.0075344 , 16.10131046,  6.09640888, 42.0841778 ,\n",
       "       21.9424028 , 26.01803393, 24.805267  , 12.48400603, 32.45541805,\n",
       "       21.78285143, 20.50259048, 20.28880072, 17.6878272 , 15.99801797,\n",
       "       34.35657243, 27.66894796,  9.76807552, 22.7358933 , 16.13950307,\n",
       "       21.16298445, 19.80307709, 19.30602141, 10.36917301, 20.10266504,\n",
       "       24.23068025, 49.40605918, 18.51698535, 34.48799744, 23.06995703,\n",
       "       22.85445145, 21.62304298, 22.1842033 , 28.40649682, 13.84026646,\n",
       "       24.25979266, 20.7248637 , 47.13868945, 24.23758629, 14.25365758,\n",
       "       21.77048973, 13.45258581, 17.84399902, 19.37799021, 40.23791178,\n",
       "       17.19542729, 23.15096547, 24.8454878 , 20.24848968, 17.85621161,\n",
       "       11.35662748, 33.76205671, 20.44438531, 22.0713568 , 21.48213525,\n",
       "       20.69830929, 15.97148427])"
      ]
     },
     "execution_count": 8,
     "metadata": {},
     "output_type": "execute_result"
    }
   ],
   "source": [
    "y_pred"
   ]
  },
  {
   "cell_type": "code",
   "execution_count": null,
   "metadata": {},
   "outputs": [],
   "source": []
  }
 ],
 "metadata": {
  "kernelspec": {
   "display_name": "base",
   "language": "python",
   "name": "python3"
  },
  "language_info": {
   "codemirror_mode": {
    "name": "ipython",
    "version": 3
   },
   "file_extension": ".py",
   "mimetype": "text/x-python",
   "name": "python",
   "nbconvert_exporter": "python",
   "pygments_lexer": "ipython3",
   "version": "3.7.6"
  },
  "orig_nbformat": 4
 },
 "nbformat": 4,
 "nbformat_minor": 2
}
